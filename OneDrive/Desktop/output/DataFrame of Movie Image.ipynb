{
 "cells": [
  {
   "cell_type": "code",
   "execution_count": 1,
   "id": "ab1d10b7",
   "metadata": {},
   "outputs": [],
   "source": [
    "import pandas as pd"
   ]
  },
  {
   "cell_type": "code",
   "execution_count": 2,
   "id": "160b7c87",
   "metadata": {},
   "outputs": [],
   "source": [
    "mg = pd.read_csv('MoviesGenre.csv', encoding='latin-1')"
   ]
  },
  {
   "cell_type": "code",
   "execution_count": 3,
   "id": "b8824d95",
   "metadata": {},
   "outputs": [],
   "source": [
    "image_data = []"
   ]
  },
  {
   "cell_type": "code",
   "execution_count": 4,
   "id": "f4991ff6",
   "metadata": {},
   "outputs": [],
   "source": [
    "for index, row in mg.iterrows():\n",
    "    poster_url = row['Poster']\n",
    "    movie_id = row['imdbId']\n",
    "    if pd.notnull(poster_url) and pd.notnull(movie_id):\n",
    "        image_data.append({'Movie ID': movie_id, 'Image URL': poster_url})"
   ]
  },
  {
   "cell_type": "code",
   "execution_count": 5,
   "id": "a0e54e8e",
   "metadata": {},
   "outputs": [],
   "source": [
    "image_df = pd.DataFrame(image_data)\n",
    "image_df.to_csv('output/dataframe_of_moviesimages087643.csv', index=False)"
   ]
  },
  {
   "cell_type": "code",
   "execution_count": 6,
   "id": "b6c757ac",
   "metadata": {},
   "outputs": [
    {
     "name": "stdout",
     "output_type": "stream",
     "text": [
      "       Movie ID                                          Image URL\n",
      "0        114709  https://images-na.ssl-images-amazon.com/images...\n",
      "1        113497  https://images-na.ssl-images-amazon.com/images...\n",
      "2        113228  https://images-na.ssl-images-amazon.com/images...\n",
      "3        114885  https://images-na.ssl-images-amazon.com/images...\n",
      "4        113041  https://images-na.ssl-images-amazon.com/images...\n",
      "...         ...                                                ...\n",
      "39378     83291  https://images-na.ssl-images-amazon.com/images...\n",
      "39379     83168  https://images-na.ssl-images-amazon.com/images...\n",
      "39380     82875  https://images-na.ssl-images-amazon.com/images...\n",
      "39381    815258  https://images-na.ssl-images-amazon.com/images...\n",
      "39382     79142  https://images-na.ssl-images-amazon.com/images...\n",
      "\n",
      "[39383 rows x 2 columns]\n"
     ]
    }
   ],
   "source": [
    "print(image_df)"
   ]
  },
  {
   "cell_type": "code",
   "execution_count": null,
   "id": "3f234291",
   "metadata": {},
   "outputs": [],
   "source": []
  }
 ],
 "metadata": {
  "kernelspec": {
   "display_name": "Python 3 (ipykernel)",
   "language": "python",
   "name": "python3"
  },
  "language_info": {
   "codemirror_mode": {
    "name": "ipython",
    "version": 3
   },
   "file_extension": ".py",
   "mimetype": "text/x-python",
   "name": "python",
   "nbconvert_exporter": "python",
   "pygments_lexer": "ipython3",
   "version": "3.11.3"
  }
 },
 "nbformat": 4,
 "nbformat_minor": 5
}
