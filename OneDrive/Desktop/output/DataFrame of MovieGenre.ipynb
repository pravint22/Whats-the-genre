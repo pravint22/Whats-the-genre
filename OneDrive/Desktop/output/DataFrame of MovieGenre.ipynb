{
 "cells": [
  {
   "cell_type": "code",
   "execution_count": 10,
   "id": "7910206d",
   "metadata": {},
   "outputs": [],
   "source": [
    "import numpy as np\n",
    "import pandas as pd\n",
    "import requests\n",
    "import os\n",
    "import re"
   ]
  },
  {
   "cell_type": "code",
   "execution_count": 2,
   "id": "5600a791",
   "metadata": {},
   "outputs": [],
   "source": [
    "mg = pd.read_csv('MoviesGenre.csv', encoding='latin-1')"
   ]
  },
  {
   "cell_type": "code",
   "execution_count": 3,
   "id": "165b418e",
   "metadata": {},
   "outputs": [],
   "source": [
    "columns_to_delete = ['imdbId','Imdb Link','Poster']\n",
    "mg_first = mg.drop(columns=columns_to_delete)"
   ]
  },
  {
   "cell_type": "code",
   "execution_count": 4,
   "id": "fa739a81",
   "metadata": {},
   "outputs": [],
   "source": [
    "mg_first.reset_index(drop=True, inplace=True)"
   ]
  },
  {
   "cell_type": "code",
   "execution_count": 5,
   "id": "a517b7b3",
   "metadata": {},
   "outputs": [],
   "source": [
    "pattern = r'^(.*) \\((\\d{4})\\)$'\n",
    "mg_first['Movie Name'] = mg_first['Title'].str.extract(pattern)[0]\n",
    "mg_first['Year'] = mg_first['Title'].str.extract(pattern)[1]\n"
   ]
  },
  {
   "cell_type": "code",
   "execution_count": 6,
   "id": "35515ed4",
   "metadata": {},
   "outputs": [],
   "source": [
    "mg_first = mg_first.drop(columns='Title')"
   ]
  },
  {
   "cell_type": "code",
   "execution_count": 7,
   "id": "caa9065a",
   "metadata": {},
   "outputs": [],
   "source": [
    "mg_first.to_csv('dataframe_of_moviesgenre.csv', index=False)"
   ]
  },
  {
   "cell_type": "code",
   "execution_count": 8,
   "id": "717c9dee",
   "metadata": {},
   "outputs": [],
   "source": [
    "columns_to_keep = ['Title', 'Poster']\n",
    "mg_secound = mg[columns_to_keep].copy()"
   ]
  },
  {
   "cell_type": "code",
   "execution_count": 9,
   "id": "93c69a19",
   "metadata": {},
   "outputs": [],
   "source": [
    "mg_secound.to_csv('output/dataframe_of_image.csv', index=False)"
   ]
  }
 ],
 "metadata": {
  "kernelspec": {
   "display_name": "Python 3 (ipykernel)",
   "language": "python",
   "name": "python3"
  },
  "language_info": {
   "codemirror_mode": {
    "name": "ipython",
    "version": 3
   },
   "file_extension": ".py",
   "mimetype": "text/x-python",
   "name": "python",
   "nbconvert_exporter": "python",
   "pygments_lexer": "ipython3",
   "version": "3.11.3"
  }
 },
 "nbformat": 4,
 "nbformat_minor": 5
}
